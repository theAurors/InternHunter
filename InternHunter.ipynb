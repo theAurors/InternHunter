{
 "cells": [
  {
   "cell_type": "code",
   "execution_count": 3,
   "metadata": {
    "collapsed": true
   },
   "outputs": [],
   "source": [
    "import tweepy, time, sys\n",
    "def get_api(cfg):\n",
    "    auth = tweepy.OAuthHandler(cfg['consumer_key'], cfg['consumer_secret'])\n",
    "    auth.set_access_token(cfg['access_token'], cfg['access_token_secret'])\n",
    "    return tweepy.API(auth)\n",
    "\n",
    "    \n",
    "  # Fill in the values noted in previous step here\n",
    "cfg = { \n",
    "             \"consumer_key\"        : \"IUVj44DuW9e4wqBkiSNKNY6Wl\",\n",
    "             \"consumer_secret\"     : \"FVpb03hTX9f25prQXg85wyAMKtTXBT4z2rQJ1oS70IuPypWcgg\",\n",
    "             \"access_token\"        : \"887225511075864576-GEkcFfpe51b0egKvtWYWT609piOjkiV\",\n",
    "             \"access_token_secret\" : \"tcZsXi6H1Z7kx4oOcTODFY2CDY3pwm5VJ6PIT1O0URqzq\" \n",
    "      }\n",
    "\n",
    "api = get_api(cfg)\n",
    "filename=open(\"/home/celebal/prac/InternHunter.txt\",'r')\n",
    "f=filename.readlines()\n",
    "filename.close()\n",
    "    \n",
    "for line in f:\n",
    "    api.update_status(status=line)\n",
    "    time.sleep(30)#Tweet every 15 minutes\n",
    "\n",
    "\n",
    "    #tweet = \"Hello, world!\"\n",
    "  #status = api.update_status(status=tweet) \n",
    "  # Yes, tweet is called 'status' rather confusing\n",
    "\n",
    "\n",
    "  "
   ]
  },
  {
   "cell_type": "code",
   "execution_count": null,
   "metadata": {
    "collapsed": true
   },
   "outputs": [],
   "source": []
  },
  {
   "cell_type": "code",
   "execution_count": 1,
   "metadata": {
    "collapsed": true
   },
   "outputs": [],
   "source": [
    "import tweepy, time, sys\n",
    "def get_api(cfg):\n",
    "    auth = tweepy.OAuthHandler(cfg['consumer_key'], cfg['consumer_secret'])\n",
    "    auth.set_access_token(cfg['access_token'], cfg['access_token_secret'])\n",
    "    return tweepy.API(auth)\n",
    "\n",
    "    \n",
    "    #time.sleep(30)#Tweet every 15 minutes\n",
    "\n",
    "\n",
    "    #tweet = \"Hello, world!\"\n",
    "  #status = api.update_status(status=tweet) \n",
    "  # Yes, tweet is called 'status' rather confusing\n",
    "\n",
    "\n",
    "  "
   ]
  },
  {
   "cell_type": "code",
   "execution_count": 2,
   "metadata": {},
   "outputs": [
    {
     "data": {
      "text/plain": [
       "5"
      ]
     },
     "execution_count": 2,
     "metadata": {},
     "output_type": "execute_result"
    }
   ],
   "source": [
    "2+3"
   ]
  },
  {
   "cell_type": "code",
   "execution_count": null,
   "metadata": {},
   "outputs": [],
   "source": [
    "import tweepy  \n",
    "import sys  \n",
    "import json  \n",
    "from textwrap import TextWrapper  \n",
    "from datetime import datetime  \n",
    "from elasticsearch import Elasticsearch\n",
    "\n",
    "\n",
    "consumer_key=\"IUVj44DuW9e4wqBkiSNKNY6Wl\"  \n",
    "consumer_secret=\"FVpb03hTX9f25prQXg85wyAMKtTXBT4z2rQJ1oS70IuPypWcgg\"\n",
    "\n",
    "access_token=\"887225511075864576-GEkcFfpe51b0egKvtWYWT609piOjkiV\"  \n",
    "access_token_secret=\"tcZsXi6H1Z7kx4oOcTODFY2CDY3pwm5VJ6PIT1O0URqzq\"\n",
    "\n",
    "auth = tweepy.OAuthHandler(consumer_key, consumer_secret)  \n",
    "auth.set_access_token(access_token, access_token_secret)\n",
    "\n",
    "es = Elasticsearch()\n",
    "\n",
    "class StreamListener(tweepy.StreamListener):  \n",
    "    status_wrapper = TextWrapper(width=60, initial_indent='    ', subsequent_indent='    ')\n",
    "\n",
    "    def on_status(self, status):\n",
    "        try:\n",
    "            #print 'n%s %s' % (status.author.screen_name, status.created_at)\n",
    "\n",
    "            json_data = status._json\n",
    "            #print json_data['text']\n",
    "\n",
    "            es.create(index=\"idx_twp\",\n",
    "                      doc_type=\"twitter_twp\",\n",
    "                      body=json_data\n",
    "                     )\n",
    "\n",
    "        except Exception:\n",
    "            pass\n",
    "\n",
    "streamer = tweepy.Stream(auth=auth, listener=StreamListener(), timeout=3000000000 )\n",
    "\n",
    "#Fill with your own Keywords bellow\n",
    "terms = ['internship','InternshipInIndia']\n",
    "\n",
    "streamer.filter(None,terms)  \n",
    "#streamer.userstream(None)\n"
   ]
  },
  {
   "cell_type": "code",
   "execution_count": null,
   "metadata": {
    "collapsed": true
   },
   "outputs": [],
   "source": []
  },
  {
   "cell_type": "code",
   "execution_count": null,
   "metadata": {
    "collapsed": true
   },
   "outputs": [],
   "source": []
  },
  {
   "cell_type": "code",
   "execution_count": null,
   "metadata": {
    "collapsed": true
   },
   "outputs": [],
   "source": []
  },
  {
   "cell_type": "code",
   "execution_count": null,
   "metadata": {
    "collapsed": true
   },
   "outputs": [],
   "source": []
  },
  {
   "cell_type": "code",
   "execution_count": null,
   "metadata": {
    "collapsed": true
   },
   "outputs": [],
   "source": []
  },
  {
   "cell_type": "code",
   "execution_count": null,
   "metadata": {
    "collapsed": true
   },
   "outputs": [],
   "source": []
  },
  {
   "cell_type": "code",
   "execution_count": null,
   "metadata": {
    "collapsed": true
   },
   "outputs": [],
   "source": []
  },
  {
   "cell_type": "code",
   "execution_count": null,
   "metadata": {
    "collapsed": true
   },
   "outputs": [],
   "source": []
  },
  {
   "cell_type": "code",
   "execution_count": null,
   "metadata": {
    "collapsed": true
   },
   "outputs": [],
   "source": []
  },
  {
   "cell_type": "code",
   "execution_count": null,
   "metadata": {
    "collapsed": true
   },
   "outputs": [],
   "source": []
  },
  {
   "cell_type": "code",
   "execution_count": null,
   "metadata": {
    "collapsed": true
   },
   "outputs": [],
   "source": []
  },
  {
   "cell_type": "code",
   "execution_count": null,
   "metadata": {
    "collapsed": true
   },
   "outputs": [],
   "source": []
  },
  {
   "cell_type": "code",
   "execution_count": null,
   "metadata": {
    "collapsed": true
   },
   "outputs": [],
   "source": []
  },
  {
   "cell_type": "code",
   "execution_count": null,
   "metadata": {
    "collapsed": true
   },
   "outputs": [],
   "source": []
  },
  {
   "cell_type": "code",
   "execution_count": null,
   "metadata": {
    "collapsed": true
   },
   "outputs": [],
   "source": []
  },
  {
   "cell_type": "code",
   "execution_count": null,
   "metadata": {
    "collapsed": true
   },
   "outputs": [],
   "source": []
  },
  {
   "cell_type": "code",
   "execution_count": null,
   "metadata": {
    "collapsed": true
   },
   "outputs": [],
   "source": [
    "import tweepy, time, sys\n",
    "\n"
   ]
  },
  {
   "cell_type": "code",
   "execution_count": null,
   "metadata": {
    "collapsed": true
   },
   "outputs": [],
   "source": []
  }
 ],
 "metadata": {
  "kernelspec": {
   "display_name": "Python 3",
   "language": "python",
   "name": "python3"
  },
  "language_info": {
   "codemirror_mode": {
    "name": "ipython",
    "version": 3
   },
   "file_extension": ".py",
   "mimetype": "text/x-python",
   "name": "python",
   "nbconvert_exporter": "python",
   "pygments_lexer": "ipython3",
   "version": "3.5.2"
  }
 },
 "nbformat": 4,
 "nbformat_minor": 2
}
